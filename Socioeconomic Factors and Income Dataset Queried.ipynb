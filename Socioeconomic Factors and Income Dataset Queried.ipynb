{
 "cells": [
  {
   "cell_type": "code",
   "execution_count": 7,
   "id": "6555e300-18a6-4030-bacd-95b245d4f62f",
   "metadata": {},
   "outputs": [],
   "source": [
    "import pandas as pd\n",
    "import seaborn as sns\n",
    "import matplotlib.pyplot as plt\n",
    "import numpy as np"
   ]
  },
  {
   "cell_type": "code",
   "execution_count": 8,
   "id": "8d8799b6-7a24-41bb-a648-dae5b8ea47a4",
   "metadata": {},
   "outputs": [],
   "source": [
    "df = pd.read_csv(r\"C:\\Users\\LENOVO\\Desktop\\BR\\sgdata.csv\")"
   ]
  },
  {
   "cell_type": "code",
   "execution_count": 13,
   "id": "b063ce30-65fc-486a-a2d2-c63941cd0674",
   "metadata": {},
   "outputs": [
    {
     "data": {
      "text/html": [
       "<div>\n",
       "<style scoped>\n",
       "    .dataframe tbody tr th:only-of-type {\n",
       "        vertical-align: middle;\n",
       "    }\n",
       "\n",
       "    .dataframe tbody tr th {\n",
       "        vertical-align: top;\n",
       "    }\n",
       "\n",
       "    .dataframe thead th {\n",
       "        text-align: right;\n",
       "    }\n",
       "</style>\n",
       "<table border=\"1\" class=\"dataframe\">\n",
       "  <thead>\n",
       "    <tr style=\"text-align: right;\">\n",
       "      <th></th>\n",
       "      <th>ID</th>\n",
       "      <th>Sex</th>\n",
       "      <th>Marital status</th>\n",
       "      <th>Age</th>\n",
       "      <th>Education</th>\n",
       "      <th>Income</th>\n",
       "      <th>Occupation</th>\n",
       "      <th>Settlement size</th>\n",
       "    </tr>\n",
       "  </thead>\n",
       "  <tbody>\n",
       "    <tr>\n",
       "      <th>0</th>\n",
       "      <td>100000001</td>\n",
       "      <td>Male</td>\n",
       "      <td>single</td>\n",
       "      <td>67</td>\n",
       "      <td>university</td>\n",
       "      <td>124670</td>\n",
       "      <td>skilled employee / official</td>\n",
       "      <td>2</td>\n",
       "    </tr>\n",
       "    <tr>\n",
       "      <th>1</th>\n",
       "      <td>100000002</td>\n",
       "      <td>Female</td>\n",
       "      <td>non-single (divorced / separated / married / w...</td>\n",
       "      <td>22</td>\n",
       "      <td>high school</td>\n",
       "      <td>150773</td>\n",
       "      <td>skilled employee / official</td>\n",
       "      <td>2</td>\n",
       "    </tr>\n",
       "    <tr>\n",
       "      <th>2</th>\n",
       "      <td>100000003</td>\n",
       "      <td>Male</td>\n",
       "      <td>single</td>\n",
       "      <td>49</td>\n",
       "      <td>high school</td>\n",
       "      <td>89210</td>\n",
       "      <td>unemployed / unskilled</td>\n",
       "      <td>0</td>\n",
       "    </tr>\n",
       "    <tr>\n",
       "      <th>3</th>\n",
       "      <td>100000004</td>\n",
       "      <td>Male</td>\n",
       "      <td>single</td>\n",
       "      <td>45</td>\n",
       "      <td>high school</td>\n",
       "      <td>171565</td>\n",
       "      <td>skilled employee / official</td>\n",
       "      <td>1</td>\n",
       "    </tr>\n",
       "    <tr>\n",
       "      <th>4</th>\n",
       "      <td>100000005</td>\n",
       "      <td>Male</td>\n",
       "      <td>single</td>\n",
       "      <td>53</td>\n",
       "      <td>high school</td>\n",
       "      <td>149031</td>\n",
       "      <td>skilled employee / official</td>\n",
       "      <td>1</td>\n",
       "    </tr>\n",
       "  </tbody>\n",
       "</table>\n",
       "</div>"
      ],
      "text/plain": [
       "          ID     Sex                                     Marital status  Age  \\\n",
       "0  100000001    Male                                             single   67   \n",
       "1  100000002  Female  non-single (divorced / separated / married / w...   22   \n",
       "2  100000003    Male                                             single   49   \n",
       "3  100000004    Male                                             single   45   \n",
       "4  100000005    Male                                             single   53   \n",
       "\n",
       "     Education  Income                   Occupation  Settlement size  \n",
       "0   university  124670  skilled employee / official                2  \n",
       "1  high school  150773  skilled employee / official                2  \n",
       "2  high school   89210       unemployed / unskilled                0  \n",
       "3  high school  171565  skilled employee / official                1  \n",
       "4  high school  149031  skilled employee / official                1  "
      ]
     },
     "execution_count": 13,
     "metadata": {},
     "output_type": "execute_result"
    }
   ],
   "source": [
    "df.head()"
   ]
  },
  {
   "cell_type": "code",
   "execution_count": null,
   "id": "d9fbaf53-a5c0-4ed5-a415-50dd42420fe8",
   "metadata": {},
   "outputs": [],
   "source": [
    "##Which demographic groups (by age, sex, marital status) earn the highest average income?"
   ]
  },
  {
   "cell_type": "code",
   "execution_count": 15,
   "id": "fc62ad6e-834a-4895-ae11-4e1f24570e68",
   "metadata": {},
   "outputs": [],
   "source": [
    "##Let's look at gender first "
   ]
  },
  {
   "cell_type": "code",
   "execution_count": 29,
   "id": "9aab93dc-5ec1-487a-9203-0e989ebf86cb",
   "metadata": {},
   "outputs": [
    {
     "name": "stdout",
     "output_type": "stream",
     "text": [
      "Highest earning gender is Male\n"
     ]
    }
   ],
   "source": [
    "gender_max = df.groupby(\"Sex\")[\"Income\"].sum().reset_index(name = \"Total Income\").max()\n",
    "gender_max\n",
    "print(f\"Highest earning gender is {gender_max['Sex']}\")"
   ]
  },
  {
   "cell_type": "code",
   "execution_count": 51,
   "id": "7e674b17-54f0-4cb2-8cd8-815d80b08dca",
   "metadata": {},
   "outputs": [
    {
     "data": {
      "text/html": [
       "<div>\n",
       "<style scoped>\n",
       "    .dataframe tbody tr th:only-of-type {\n",
       "        vertical-align: middle;\n",
       "    }\n",
       "\n",
       "    .dataframe tbody tr th {\n",
       "        vertical-align: top;\n",
       "    }\n",
       "\n",
       "    .dataframe thead th {\n",
       "        text-align: right;\n",
       "    }\n",
       "</style>\n",
       "<table border=\"1\" class=\"dataframe\">\n",
       "  <thead>\n",
       "    <tr style=\"text-align: right;\">\n",
       "      <th></th>\n",
       "      <th>ID</th>\n",
       "      <th>Sex</th>\n",
       "      <th>Marital status</th>\n",
       "      <th>Age</th>\n",
       "      <th>Education</th>\n",
       "      <th>Income</th>\n",
       "      <th>Occupation</th>\n",
       "      <th>Settlement size</th>\n",
       "      <th>Age Group</th>\n",
       "    </tr>\n",
       "  </thead>\n",
       "  <tbody>\n",
       "    <tr>\n",
       "      <th>0</th>\n",
       "      <td>100000001</td>\n",
       "      <td>Male</td>\n",
       "      <td>single</td>\n",
       "      <td>67</td>\n",
       "      <td>university</td>\n",
       "      <td>124670</td>\n",
       "      <td>skilled employee / official</td>\n",
       "      <td>2</td>\n",
       "      <td>65-74</td>\n",
       "    </tr>\n",
       "    <tr>\n",
       "      <th>1</th>\n",
       "      <td>100000002</td>\n",
       "      <td>Female</td>\n",
       "      <td>non-single (divorced / separated / married / w...</td>\n",
       "      <td>22</td>\n",
       "      <td>high school</td>\n",
       "      <td>150773</td>\n",
       "      <td>skilled employee / official</td>\n",
       "      <td>2</td>\n",
       "      <td>17-24</td>\n",
       "    </tr>\n",
       "    <tr>\n",
       "      <th>2</th>\n",
       "      <td>100000003</td>\n",
       "      <td>Male</td>\n",
       "      <td>single</td>\n",
       "      <td>49</td>\n",
       "      <td>high school</td>\n",
       "      <td>89210</td>\n",
       "      <td>unemployed / unskilled</td>\n",
       "      <td>0</td>\n",
       "      <td>45-54</td>\n",
       "    </tr>\n",
       "    <tr>\n",
       "      <th>3</th>\n",
       "      <td>100000004</td>\n",
       "      <td>Male</td>\n",
       "      <td>single</td>\n",
       "      <td>45</td>\n",
       "      <td>high school</td>\n",
       "      <td>171565</td>\n",
       "      <td>skilled employee / official</td>\n",
       "      <td>1</td>\n",
       "      <td>45-54</td>\n",
       "    </tr>\n",
       "    <tr>\n",
       "      <th>4</th>\n",
       "      <td>100000005</td>\n",
       "      <td>Male</td>\n",
       "      <td>single</td>\n",
       "      <td>53</td>\n",
       "      <td>high school</td>\n",
       "      <td>149031</td>\n",
       "      <td>skilled employee / official</td>\n",
       "      <td>1</td>\n",
       "      <td>45-54</td>\n",
       "    </tr>\n",
       "  </tbody>\n",
       "</table>\n",
       "</div>"
      ],
      "text/plain": [
       "          ID     Sex                                     Marital status  Age  \\\n",
       "0  100000001    Male                                             single   67   \n",
       "1  100000002  Female  non-single (divorced / separated / married / w...   22   \n",
       "2  100000003    Male                                             single   49   \n",
       "3  100000004    Male                                             single   45   \n",
       "4  100000005    Male                                             single   53   \n",
       "\n",
       "     Education  Income                   Occupation  Settlement size Age Group  \n",
       "0   university  124670  skilled employee / official                2     65-74  \n",
       "1  high school  150773  skilled employee / official                2     17-24  \n",
       "2  high school   89210       unemployed / unskilled                0     45-54  \n",
       "3  high school  171565  skilled employee / official                1     45-54  \n",
       "4  high school  149031  skilled employee / official                1     45-54  "
      ]
     },
     "execution_count": 51,
     "metadata": {},
     "output_type": "execute_result"
    }
   ],
   "source": [
    "##Looking at age\n",
    "bins = [16, 24, 34, 44, 54, 64, 74, 80]\n",
    "labels = ['17-24', '25-34', '35-44', '45-54', '55-64', '65-74', '75-80']\n",
    "df['Age Group'] = pd.cut(df['Age'], bins=bins, labels=labels, right=True, include_lowest=True)\n",
    "df.head()"
   ]
  },
  {
   "cell_type": "code",
   "execution_count": 53,
   "id": "a7b56ab1-bca6-4b67-be48-641fcbe07ad9",
   "metadata": {},
   "outputs": [
    {
     "name": "stderr",
     "output_type": "stream",
     "text": [
      "C:\\Users\\LENOVO\\AppData\\Local\\Temp\\ipykernel_42276\\1720752043.py:1: FutureWarning: The default of observed=False is deprecated and will be changed to True in a future version of pandas. Pass observed=False to retain current behavior or observed=True to adopt the future default and silence this warning.\n",
      "  highest_earning_age_group = df.groupby('Age Group')[\"Income\"].sum()\n"
     ]
    }
   ],
   "source": [
    "highest_earning_age_group = df.groupby('Age Group')[\"Income\"].sum()"
   ]
  },
  {
   "cell_type": "code",
   "execution_count": 65,
   "id": "e38a35aa-ad16-45c3-9bfb-c72df23a5bd9",
   "metadata": {},
   "outputs": [
    {
     "data": {
      "text/html": [
       "<div>\n",
       "<style scoped>\n",
       "    .dataframe tbody tr th:only-of-type {\n",
       "        vertical-align: middle;\n",
       "    }\n",
       "\n",
       "    .dataframe tbody tr th {\n",
       "        vertical-align: top;\n",
       "    }\n",
       "\n",
       "    .dataframe thead th {\n",
       "        text-align: right;\n",
       "    }\n",
       "</style>\n",
       "<table border=\"1\" class=\"dataframe\">\n",
       "  <thead>\n",
       "    <tr style=\"text-align: right;\">\n",
       "      <th></th>\n",
       "      <th>Age Group</th>\n",
       "      <th>Income</th>\n",
       "    </tr>\n",
       "  </thead>\n",
       "  <tbody>\n",
       "    <tr>\n",
       "      <th>1</th>\n",
       "      <td>25-34</td>\n",
       "      <td>92014432</td>\n",
       "    </tr>\n",
       "    <tr>\n",
       "      <th>2</th>\n",
       "      <td>35-44</td>\n",
       "      <td>62086851</td>\n",
       "    </tr>\n",
       "    <tr>\n",
       "      <th>3</th>\n",
       "      <td>45-54</td>\n",
       "      <td>32324241</td>\n",
       "    </tr>\n",
       "    <tr>\n",
       "      <th>0</th>\n",
       "      <td>17-24</td>\n",
       "      <td>28628278</td>\n",
       "    </tr>\n",
       "    <tr>\n",
       "      <th>4</th>\n",
       "      <td>55-64</td>\n",
       "      <td>18017109</td>\n",
       "    </tr>\n",
       "    <tr>\n",
       "      <th>5</th>\n",
       "      <td>65-74</td>\n",
       "      <td>8284115</td>\n",
       "    </tr>\n",
       "    <tr>\n",
       "      <th>6</th>\n",
       "      <td>75-80</td>\n",
       "      <td>553812</td>\n",
       "    </tr>\n",
       "  </tbody>\n",
       "</table>\n",
       "</div>"
      ],
      "text/plain": [
       "  Age Group    Income\n",
       "1     25-34  92014432\n",
       "2     35-44  62086851\n",
       "3     45-54  32324241\n",
       "0     17-24  28628278\n",
       "4     55-64  18017109\n",
       "5     65-74   8284115\n",
       "6     75-80    553812"
      ]
     },
     "execution_count": 65,
     "metadata": {},
     "output_type": "execute_result"
    }
   ],
   "source": [
    "highest_earning_age_group.reset_index().sort_values(by = \"Income\", ascending = False)"
   ]
  },
  {
   "cell_type": "code",
   "execution_count": null,
   "id": "c593ffbe-f85e-417a-a5ab-a0d7d60f8ce2",
   "metadata": {},
   "outputs": [],
   "source": [
    "\"\"\"age group 25 - 34 are the highest earning group\"\"\""
   ]
  },
  {
   "cell_type": "code",
   "execution_count": 67,
   "id": "65118e70-fe57-4e15-9909-89f9ce301a02",
   "metadata": {},
   "outputs": [],
   "source": [
    "## looking at marital status"
   ]
  },
  {
   "cell_type": "code",
   "execution_count": 77,
   "id": "462967a9-d0b1-4a0f-97ac-03cf17e8d6aa",
   "metadata": {},
   "outputs": [
    {
     "data": {
      "text/plain": [
       "'single'"
      ]
     },
     "execution_count": 77,
     "metadata": {},
     "output_type": "execute_result"
    }
   ],
   "source": [
    "marital_status_max = df.groupby(\"Marital status\")['Income'].sum().idxmax()\n",
    "marital_status_max"
   ]
  },
  {
   "cell_type": "code",
   "execution_count": null,
   "id": "58b155f0-92b2-4932-8821-2274a9fdf1b2",
   "metadata": {},
   "outputs": [],
   "source": []
  },
  {
   "cell_type": "code",
   "execution_count": null,
   "id": "72f43609-887f-41ef-a4f0-f7e4cc2805a3",
   "metadata": {},
   "outputs": [],
   "source": [
    "##Is there a gender income gap in this dataset?"
   ]
  },
  {
   "cell_type": "code",
   "execution_count": 103,
   "id": "51088371-f22f-4e4e-a5ea-256ef921353a",
   "metadata": {},
   "outputs": [],
   "source": [
    "gender_income = df.groupby(\"Sex\")[\"Income\"].sum()"
   ]
  },
  {
   "cell_type": "code",
   "execution_count": 105,
   "id": "9f325c9c-f057-4187-87e3-186799b73f7b",
   "metadata": {},
   "outputs": [
    {
     "data": {
      "text/plain": [
       "Sex\n",
       "Female    103144943\n",
       "Male      138763895\n",
       "Name: Income, dtype: int64"
      ]
     },
     "execution_count": 105,
     "metadata": {},
     "output_type": "execute_result"
    }
   ],
   "source": [
    "gender_income"
   ]
  },
  {
   "cell_type": "code",
   "execution_count": 111,
   "id": "c1b36a50-3479-4051-ad0d-a208a692e631",
   "metadata": {},
   "outputs": [
    {
     "data": {
      "text/plain": [
       "<Axes: xlabel='Sex', ylabel='Income'>"
      ]
     },
     "execution_count": 111,
     "metadata": {},
     "output_type": "execute_result"
    },
    {
     "data": {
      "image/png": "[encoded data removed]",
      "text/plain": [
       "<Figure size 1000x600 with 1 Axes>"
      ]
     },
     "metadata": {},
     "output_type": "display_data"
    }
   ],
   "source": [
    "plt.figure(figsize = (10,6))\n",
    "gender_income.plot(kind = 'bar', xlabel = \"Sex\", ylabel = \"Income\")"
   ]
  },
  {
   "cell_type": "code",
   "execution_count": 119,
   "id": "ddcf70b2-6acf-42a8-bdd4-a2bb975f81d1",
   "metadata": {},
   "outputs": [],
   "source": [
    "income_gap = gender_income[\"Male\"] - gender_income[\"Female\"]"
   ]
  },
  {
   "cell_type": "code",
   "execution_count": 121,
   "id": "ce17491d-8b83-421a-b621-5bb77079b25c",
   "metadata": {},
   "outputs": [
    {
     "data": {
      "text/plain": [
       "35618952"
      ]
     },
     "execution_count": 121,
     "metadata": {},
     "output_type": "execute_result"
    }
   ],
   "source": [
    "income_gap"
   ]
  },
  {
   "cell_type": "code",
   "execution_count": null,
   "id": "dd036d81-d198-4ef9-a50c-40aefe356bc7",
   "metadata": {},
   "outputs": [],
   "source": [
    "##Does marital status affect income levels?"
   ]
  },
  {
   "cell_type": "code",
   "execution_count": 129,
   "id": "489b631c-3170-49c9-9b49-9a57aec59a3d",
   "metadata": {},
   "outputs": [
    {
     "data": {
      "image/png": "[encoded data removed]",
      "text/plain": [
       "<Figure size 1000x600 with 1 Axes>"
      ]
     },
     "metadata": {},
     "output_type": "display_data"
    }
   ],
   "source": [
    "plt.figure(figsize=(10, 6))\n",
    "sns.boxplot(x='Marital status', y='Income', data=df)\n",
    "plt.title(\"Income Distribution by Marital Status\")\n",
    "plt.ylabel(\"Income\")\n",
    "plt.xlabel(\"Marital Status\")\n",
    "plt.xticks(rotation=90)\n",
    "plt.grid(True, axis='y', linestyle='--', alpha=0.7)\n",
    "plt.show()"
   ]
  },
  {
   "cell_type": "code",
   "execution_count": 125,
   "id": "2c133c90-d7a8-430c-8364-4ebd6f4e0768",
   "metadata": {},
   "outputs": [
    {
     "data": {
      "text/plain": [
       "Marital status\n",
       "single                                                   123736.232373\n",
       "non-single (divorced / separated / married / widowed)    118133.385700\n",
       "Name: Income, dtype: float64"
      ]
     },
     "execution_count": 125,
     "metadata": {},
     "output_type": "execute_result"
    }
   ],
   "source": [
    "income_by_marital_status = df.groupby(\"Marital status\")[\"Income\"].mean().sort_values(ascending=False)\n",
    "income_by_marital_status"
   ]
  },
  {
   "cell_type": "code",
   "execution_count": null,
   "id": "2a694179-4520-4c0c-a34e-c1de1df87dc1",
   "metadata": {},
   "outputs": [],
   "source": [
    "##How does age correlate with income? Is there a peak earning age range?"
   ]
  },
  {
   "cell_type": "code",
   "execution_count": 131,
   "id": "aab729b5-e17e-4cb8-a71d-0668deab2b82",
   "metadata": {},
   "outputs": [
    {
     "data": {
      "text/plain": [
       "0.34061016373173525"
      ]
     },
     "execution_count": 131,
     "metadata": {},
     "output_type": "execute_result"
    }
   ],
   "source": [
    "df[\"Age\"].corr(df[\"Income\"])"
   ]
  },
  {
   "cell_type": "code",
   "execution_count": 135,
   "id": "6f3ce40b-1951-4ddc-a072-407b5508c6bf",
   "metadata": {},
   "outputs": [
    {
     "data": {
      "text/plain": [
       "'Moderate positive correlation: As age increases, income tends to increase — but not in a strictly linear fashion.\\n    People may earn more as they gain experience, especially from their 20s through mid-40s or 50s.'"
      ]
     },
     "execution_count": 135,
     "metadata": {},
     "output_type": "execute_result"
    }
   ],
   "source": [
    "\"\"\"Moderate positive correlation: As age increases, income tends to increase — but not in a strictly linear fashion.\n",
    "    People may earn more as they gain experience, especially from their 20s through mid-40s or 50s.\"\"\""
   ]
  },
  {
   "cell_type": "code",
   "execution_count": 149,
   "id": "670c44e4-b572-42e5-9f9f-7bb9b6e2e4be",
   "metadata": {},
   "outputs": [
    {
     "name": "stderr",
     "output_type": "stream",
     "text": [
      "C:\\Users\\LENOVO\\AppData\\Local\\Temp\\ipykernel_42276\\3437124053.py:1: FutureWarning: The default of observed=False is deprecated and will be changed to True in a future version of pandas. Pass observed=False to retain current behavior or observed=True to adopt the future default and silence this warning.\n",
      "  peak_earning_age = df.groupby(\"Age Group\")[\"Income\"].mean().sort_values(ascending = False)\n"
     ]
    }
   ],
   "source": [
    "peak_earning_age = df.groupby(\"Age Group\")[\"Income\"].mean().sort_values(ascending = False)"
   ]
  },
  {
   "cell_type": "code",
   "execution_count": 151,
   "id": "eed06cda-6d4c-4846-a8ef-c91e9a756f69",
   "metadata": {},
   "outputs": [
    {
     "data": {
      "text/plain": [
       "Age Group\n",
       "75-80    184604.000000\n",
       "65-74    153409.537037\n",
       "55-64    150142.575000\n",
       "45-54    132476.397541\n",
       "35-44    123925.850299\n",
       "25-34    114445.810945\n",
       "17-24    104482.766423\n",
       "Name: Income, dtype: float64"
      ]
     },
     "execution_count": 151,
     "metadata": {},
     "output_type": "execute_result"
    }
   ],
   "source": [
    "peak_earning_age"
   ]
  },
  {
   "cell_type": "code",
   "execution_count": null,
   "id": "b8000336-f494-467b-a346-623d70c6b49a",
   "metadata": {},
   "outputs": [],
   "source": [
    "##Which education level is associated with the highest average income?"
   ]
  },
  {
   "cell_type": "code",
   "execution_count": 159,
   "id": "c21ccdbb-95c4-4c4d-836c-0f1d3152672b",
   "metadata": {},
   "outputs": [
    {
     "data": {
      "text/html": [
       "<div>\n",
       "<style scoped>\n",
       "    .dataframe tbody tr th:only-of-type {\n",
       "        vertical-align: middle;\n",
       "    }\n",
       "\n",
       "    .dataframe tbody tr th {\n",
       "        vertical-align: top;\n",
       "    }\n",
       "\n",
       "    .dataframe thead th {\n",
       "        text-align: right;\n",
       "    }\n",
       "</style>\n",
       "<table border=\"1\" class=\"dataframe\">\n",
       "  <thead>\n",
       "    <tr style=\"text-align: right;\">\n",
       "      <th></th>\n",
       "      <th>Education</th>\n",
       "      <th>Income</th>\n",
       "    </tr>\n",
       "  </thead>\n",
       "  <tbody>\n",
       "    <tr>\n",
       "      <th>0</th>\n",
       "      <td>graduate school</td>\n",
       "      <td>146818.333333</td>\n",
       "    </tr>\n",
       "    <tr>\n",
       "      <th>3</th>\n",
       "      <td>university</td>\n",
       "      <td>145405.982818</td>\n",
       "    </tr>\n",
       "    <tr>\n",
       "      <th>1</th>\n",
       "      <td>high school</td>\n",
       "      <td>116367.720058</td>\n",
       "    </tr>\n",
       "    <tr>\n",
       "      <th>2</th>\n",
       "      <td>other / unknown</td>\n",
       "      <td>115068.212544</td>\n",
       "    </tr>\n",
       "  </tbody>\n",
       "</table>\n",
       "</div>"
      ],
      "text/plain": [
       "         Education         Income\n",
       "0  graduate school  146818.333333\n",
       "3       university  145405.982818\n",
       "1      high school  116367.720058\n",
       "2  other / unknown  115068.212544"
      ]
     },
     "execution_count": 159,
     "metadata": {},
     "output_type": "execute_result"
    }
   ],
   "source": [
    "df.groupby(\"Education\")[\"Income\"].mean().reset_index().sort_values(by = 'Income',ascending = False)"
   ]
  },
  {
   "cell_type": "code",
   "execution_count": null,
   "id": "2f3e1bba-b920-4e90-b597-b0551b3ddb3d",
   "metadata": {},
   "outputs": [],
   "source": [
    "##What is the income distribution across different occupations?"
   ]
  },
  {
   "cell_type": "code",
   "execution_count": 163,
   "id": "271fc3de-8d46-420c-a0db-3c472c86b5a9",
   "metadata": {},
   "outputs": [
    {
     "data": {
      "text/html": [
       "<div>\n",
       "<style scoped>\n",
       "    .dataframe tbody tr th:only-of-type {\n",
       "        vertical-align: middle;\n",
       "    }\n",
       "\n",
       "    .dataframe tbody tr th {\n",
       "        vertical-align: top;\n",
       "    }\n",
       "\n",
       "    .dataframe thead th {\n",
       "        text-align: right;\n",
       "    }\n",
       "</style>\n",
       "<table border=\"1\" class=\"dataframe\">\n",
       "  <thead>\n",
       "    <tr style=\"text-align: right;\">\n",
       "      <th></th>\n",
       "      <th>Occupation</th>\n",
       "      <th>Total Income</th>\n",
       "    </tr>\n",
       "  </thead>\n",
       "  <tbody>\n",
       "    <tr>\n",
       "      <th>0</th>\n",
       "      <td>management / self-employed / highly qualified ...</td>\n",
       "      <td>44755781</td>\n",
       "    </tr>\n",
       "    <tr>\n",
       "      <th>1</th>\n",
       "      <td>skilled employee / official</td>\n",
       "      <td>139653089</td>\n",
       "    </tr>\n",
       "    <tr>\n",
       "      <th>2</th>\n",
       "      <td>unemployed / unskilled</td>\n",
       "      <td>57499968</td>\n",
       "    </tr>\n",
       "  </tbody>\n",
       "</table>\n",
       "</div>"
      ],
      "text/plain": [
       "                                          Occupation  Total Income\n",
       "0  management / self-employed / highly qualified ...      44755781\n",
       "1                        skilled employee / official     139653089\n",
       "2                             unemployed / unskilled      57499968"
      ]
     },
     "execution_count": 163,
     "metadata": {},
     "output_type": "execute_result"
    }
   ],
   "source": [
    "df.groupby(\"Occupation\")[\"Income\"].sum().reset_index(name = \"Total Income\")"
   ]
  },
  {
   "cell_type": "code",
   "execution_count": null,
   "id": "73deed86-b9f9-4541-b8dd-40ca3cc380e1",
   "metadata": {},
   "outputs": [],
   "source": [
    "##How does education influence occupation type or likelihood of being unemployed?"
   ]
  },
  {
   "cell_type": "code",
   "execution_count": 173,
   "id": "a13656d2-7865-4943-8b3b-f3736990553b",
   "metadata": {},
   "outputs": [
    {
     "data": {
      "text/html": [
       "<div>\n",
       "<style scoped>\n",
       "    .dataframe tbody tr th:only-of-type {\n",
       "        vertical-align: middle;\n",
       "    }\n",
       "\n",
       "    .dataframe tbody tr th {\n",
       "        vertical-align: top;\n",
       "    }\n",
       "\n",
       "    .dataframe thead th {\n",
       "        text-align: right;\n",
       "    }\n",
       "</style>\n",
       "<table border=\"1\" class=\"dataframe\">\n",
       "  <thead>\n",
       "    <tr style=\"text-align: right;\">\n",
       "      <th>Occupation</th>\n",
       "      <th>management / self-employed / highly qualified employee / officer</th>\n",
       "      <th>skilled employee / official</th>\n",
       "      <th>unemployed / unskilled</th>\n",
       "    </tr>\n",
       "    <tr>\n",
       "      <th>Education</th>\n",
       "      <th></th>\n",
       "      <th></th>\n",
       "      <th></th>\n",
       "    </tr>\n",
       "  </thead>\n",
       "  <tbody>\n",
       "    <tr>\n",
       "      <th>graduate school</th>\n",
       "      <td>11</td>\n",
       "      <td>16</td>\n",
       "      <td>9</td>\n",
       "    </tr>\n",
       "    <tr>\n",
       "      <th>high school</th>\n",
       "      <td>154</td>\n",
       "      <td>796</td>\n",
       "      <td>436</td>\n",
       "    </tr>\n",
       "    <tr>\n",
       "      <th>other / unknown</th>\n",
       "      <td>27</td>\n",
       "      <td>168</td>\n",
       "      <td>92</td>\n",
       "    </tr>\n",
       "    <tr>\n",
       "      <th>university</th>\n",
       "      <td>62</td>\n",
       "      <td>133</td>\n",
       "      <td>96</td>\n",
       "    </tr>\n",
       "  </tbody>\n",
       "</table>\n",
       "</div>"
      ],
      "text/plain": [
       "Occupation       management / self-employed / highly qualified employee / officer  \\\n",
       "Education                                                                           \n",
       "graduate school                                                 11                  \n",
       "high school                                                    154                  \n",
       "other / unknown                                                 27                  \n",
       "university                                                      62                  \n",
       "\n",
       "Occupation       skilled employee / official  unemployed / unskilled  \n",
       "Education                                                             \n",
       "graduate school                           16                       9  \n",
       "high school                              796                     436  \n",
       "other / unknown                          168                      92  \n",
       "university                               133                      96  "
      ]
     },
     "execution_count": 173,
     "metadata": {},
     "output_type": "execute_result"
    }
   ],
   "source": [
    "df.groupby([\"Education\", \"Occupation\"])[\"ID\"].size().unstack()"
   ]
  },
  {
   "cell_type": "code",
   "execution_count": 185,
   "id": "1f5bd8eb-17c8-4eec-8ddc-7af6713320d0",
   "metadata": {},
   "outputs": [],
   "source": [
    "##CONCLUSION \n",
    "## 1. Higher education (graduate school, university) is associated with lower likelihood of unemployment and higher chances of securing skilled or managerial roles.\n",
    "## 2. Lower education (high school, other/unknown) correlates with a higher risk of unemployment or unskilled occupations.\n",
    "## 3. The data underscores the importance of education in occupational outcomes and economic stability , Policies aimed at increasing access to higher education could reduce unemployment rates and improve job quality."
   ]
  },
  {
   "cell_type": "code",
   "execution_count": null,
   "id": "eaa6d4ad-da86-4dba-94f1-238772c31153",
   "metadata": {},
   "outputs": [],
   "source": [
    "##What occupations dominate among older adults (e.g. 60+)?"
   ]
  },
  {
   "cell_type": "code",
   "execution_count": 215,
   "id": "cd3c6fbc-781d-4d23-8a4c-83c54f702ae8",
   "metadata": {},
   "outputs": [
    {
     "name": "stderr",
     "output_type": "stream",
     "text": [
      "C:\\Users\\LENOVO\\AppData\\Local\\Temp\\ipykernel_42276\\1686120452.py:1: FutureWarning: The default of observed=False is deprecated and will be changed to True in a future version of pandas. Pass observed=False to retain current behavior or observed=True to adopt the future default and silence this warning.\n",
      "  df[df[\"Age\"] >= 60].groupby([\"Age Group\",\"Occupation\"]).size().unstack()\n"
     ]
    },
    {
     "data": {
      "text/html": [
       "<div>\n",
       "<style scoped>\n",
       "    .dataframe tbody tr th:only-of-type {\n",
       "        vertical-align: middle;\n",
       "    }\n",
       "\n",
       "    .dataframe tbody tr th {\n",
       "        vertical-align: top;\n",
       "    }\n",
       "\n",
       "    .dataframe thead th {\n",
       "        text-align: right;\n",
       "    }\n",
       "</style>\n",
       "<table border=\"1\" class=\"dataframe\">\n",
       "  <thead>\n",
       "    <tr style=\"text-align: right;\">\n",
       "      <th>Occupation</th>\n",
       "      <th>management / self-employed / highly qualified employee / officer</th>\n",
       "      <th>skilled employee / official</th>\n",
       "      <th>unemployed / unskilled</th>\n",
       "    </tr>\n",
       "    <tr>\n",
       "      <th>Age Group</th>\n",
       "      <th></th>\n",
       "      <th></th>\n",
       "      <th></th>\n",
       "    </tr>\n",
       "  </thead>\n",
       "  <tbody>\n",
       "    <tr>\n",
       "      <th>17-24</th>\n",
       "      <td>0</td>\n",
       "      <td>0</td>\n",
       "      <td>0</td>\n",
       "    </tr>\n",
       "    <tr>\n",
       "      <th>25-34</th>\n",
       "      <td>0</td>\n",
       "      <td>0</td>\n",
       "      <td>0</td>\n",
       "    </tr>\n",
       "    <tr>\n",
       "      <th>35-44</th>\n",
       "      <td>0</td>\n",
       "      <td>0</td>\n",
       "      <td>0</td>\n",
       "    </tr>\n",
       "    <tr>\n",
       "      <th>45-54</th>\n",
       "      <td>0</td>\n",
       "      <td>0</td>\n",
       "      <td>0</td>\n",
       "    </tr>\n",
       "    <tr>\n",
       "      <th>55-64</th>\n",
       "      <td>10</td>\n",
       "      <td>38</td>\n",
       "      <td>15</td>\n",
       "    </tr>\n",
       "    <tr>\n",
       "      <th>65-74</th>\n",
       "      <td>17</td>\n",
       "      <td>22</td>\n",
       "      <td>15</td>\n",
       "    </tr>\n",
       "    <tr>\n",
       "      <th>75-80</th>\n",
       "      <td>3</td>\n",
       "      <td>0</td>\n",
       "      <td>0</td>\n",
       "    </tr>\n",
       "  </tbody>\n",
       "</table>\n",
       "</div>"
      ],
      "text/plain": [
       "Occupation  management / self-employed / highly qualified employee / officer  \\\n",
       "Age Group                                                                      \n",
       "17-24                                                       0                  \n",
       "25-34                                                       0                  \n",
       "35-44                                                       0                  \n",
       "45-54                                                       0                  \n",
       "55-64                                                      10                  \n",
       "65-74                                                      17                  \n",
       "75-80                                                       3                  \n",
       "\n",
       "Occupation  skilled employee / official  unemployed / unskilled  \n",
       "Age Group                                                        \n",
       "17-24                                 0                       0  \n",
       "25-34                                 0                       0  \n",
       "35-44                                 0                       0  \n",
       "45-54                                 0                       0  \n",
       "55-64                                38                      15  \n",
       "65-74                                22                      15  \n",
       "75-80                                 0                       0  "
      ]
     },
     "execution_count": 215,
     "metadata": {},
     "output_type": "execute_result"
    }
   ],
   "source": [
    "df[df[\"Age\"] >= 60].groupby([\"Age Group\",\"Occupation\"]).size().unstack()"
   ]
  },
  {
   "cell_type": "code",
   "execution_count": 217,
   "id": "5367497d-2e87-4934-a5b2-3b82dbc6ed95",
   "metadata": {},
   "outputs": [
    {
     "data": {
      "text/plain": [
       "'skilled employee / official dominates among older adults'"
      ]
     },
     "execution_count": 217,
     "metadata": {},
     "output_type": "execute_result"
    }
   ],
   "source": [
    "\"\"\"skilled employee / official dominates among older adults\"\"\""
   ]
  },
  {
   "cell_type": "code",
   "execution_count": null,
   "id": "636a7540-19c2-4c4f-a8fc-95e7fdbad1d2",
   "metadata": {},
   "outputs": [],
   "source": [
    "##Which combination of sex, education, and occupation leads to the highest income?"
   ]
  },
  {
   "cell_type": "code",
   "execution_count": 219,
   "id": "85b4b6d1-4ec5-4987-8088-7f2d5cc36f2f",
   "metadata": {},
   "outputs": [],
   "source": [
    "peak_combination = df.groupby([\"Sex\", \"Education\", \"Occupation\"])[\"Income\"].mean().sort_values(ascending=False)"
   ]
  },
  {
   "cell_type": "code",
   "execution_count": 227,
   "id": "e606035f-6dab-4c4e-b0d1-d3ab8c474a0b",
   "metadata": {},
   "outputs": [
    {
     "data": {
      "text/html": [
       "<div>\n",
       "<style scoped>\n",
       "    .dataframe tbody tr th:only-of-type {\n",
       "        vertical-align: middle;\n",
       "    }\n",
       "\n",
       "    .dataframe tbody tr th {\n",
       "        vertical-align: top;\n",
       "    }\n",
       "\n",
       "    .dataframe thead th {\n",
       "        text-align: right;\n",
       "    }\n",
       "</style>\n",
       "<table border=\"1\" class=\"dataframe\">\n",
       "  <thead>\n",
       "    <tr style=\"text-align: right;\">\n",
       "      <th></th>\n",
       "      <th>Sex</th>\n",
       "      <th>Education</th>\n",
       "      <th>Occupation</th>\n",
       "      <th>Income</th>\n",
       "    </tr>\n",
       "  </thead>\n",
       "  <tbody>\n",
       "    <tr>\n",
       "      <th>0</th>\n",
       "      <td>Male</td>\n",
       "      <td>university</td>\n",
       "      <td>management / self-employed / highly qualified ...</td>\n",
       "      <td>213998.729730</td>\n",
       "    </tr>\n",
       "    <tr>\n",
       "      <th>1</th>\n",
       "      <td>Female</td>\n",
       "      <td>university</td>\n",
       "      <td>management / self-employed / highly qualified ...</td>\n",
       "      <td>201430.720000</td>\n",
       "    </tr>\n",
       "    <tr>\n",
       "      <th>2</th>\n",
       "      <td>Female</td>\n",
       "      <td>graduate school</td>\n",
       "      <td>management / self-employed / highly qualified ...</td>\n",
       "      <td>186455.875000</td>\n",
       "    </tr>\n",
       "    <tr>\n",
       "      <th>3</th>\n",
       "      <td>Male</td>\n",
       "      <td>graduate school</td>\n",
       "      <td>management / self-employed / highly qualified ...</td>\n",
       "      <td>184600.333333</td>\n",
       "    </tr>\n",
       "    <tr>\n",
       "      <th>4</th>\n",
       "      <td>Male</td>\n",
       "      <td>other / unknown</td>\n",
       "      <td>management / self-employed / highly qualified ...</td>\n",
       "      <td>174353.000000</td>\n",
       "    </tr>\n",
       "  </tbody>\n",
       "</table>\n",
       "</div>"
      ],
      "text/plain": [
       "      Sex        Education                                         Occupation  \\\n",
       "0    Male       university  management / self-employed / highly qualified ...   \n",
       "1  Female       university  management / self-employed / highly qualified ...   \n",
       "2  Female  graduate school  management / self-employed / highly qualified ...   \n",
       "3    Male  graduate school  management / self-employed / highly qualified ...   \n",
       "4    Male  other / unknown  management / self-employed / highly qualified ...   \n",
       "\n",
       "          Income  \n",
       "0  213998.729730  \n",
       "1  201430.720000  \n",
       "2  186455.875000  \n",
       "3  184600.333333  \n",
       "4  174353.000000  "
      ]
     },
     "execution_count": 227,
     "metadata": {},
     "output_type": "execute_result"
    }
   ],
   "source": [
    "peak_combination.reset_index().head(5)"
   ]
  },
  {
   "cell_type": "code",
   "execution_count": null,
   "id": "c1cacf72-745d-4966-b6c2-86db7b375114",
   "metadata": {},
   "outputs": [],
   "source": [
    "##Are married university-educated women more likely to be employed than single high school-educated men?"
   ]
  },
  {
   "cell_type": "code",
   "execution_count": 237,
   "id": "e4a79425-b370-424e-b34c-9d0fafe7c0db",
   "metadata": {},
   "outputs": [
    {
     "data": {
      "text/plain": [
       "(100.0, 100.0)"
      ]
     },
     "execution_count": 237,
     "metadata": {},
     "output_type": "execute_result"
    }
   ],
   "source": [
    "married_uni_women = df[(df[\"Sex\"] == \"Female\") & \n",
    "                       (df[\"Education\"] == \"university\") & \n",
    "                       (df[\"Marital status\"] == \"non-single (divorced / separated / married / widowed)\")]\n",
    "\n",
    "single_hs_men = df[(df[\"Sex\"] == \"Male\") & \n",
    "                   (df[\"Education\"] == \"high school\") & \n",
    "                   (df[\"Marital status\"] == \"single\")]\n",
    "\n",
    "married_uni_women_employment_rate = (married_uni_women[\"Occupation\"].notna().sum() / len(married_uni_women)) * 100\n",
    "single_hs_men_employment_rate = (single_hs_men[\"Occupation\"].notna().sum() / len(single_hs_men)) * 100\n",
    "\n",
    "married_uni_women_employment_rate, single_hs_men_employment_rate"
   ]
  },
  {
   "cell_type": "code",
   "execution_count": 241,
   "id": "53f2332d-1eac-4c41-9f8e-b1049ec1aa3a",
   "metadata": {},
   "outputs": [
    {
     "data": {
      "text/plain": [
       "\"There's a 100% employment rate for both categories\""
      ]
     },
     "execution_count": 241,
     "metadata": {},
     "output_type": "execute_result"
    }
   ],
   "source": [
    "\"\"\"There's a 100% employment rate for both categories\"\"\""
   ]
  },
  {
   "cell_type": "code",
   "execution_count": null,
   "id": "0c807454-b798-4006-b04c-0dea9e196465",
   "metadata": {},
   "outputs": [],
   "source": []
  },
  {
   "cell_type": "code",
   "execution_count": null,
   "id": "26587e9d-e618-4a50-b1b8-3cf265235d43",
   "metadata": {},
   "outputs": [],
   "source": []
  },
  {
   "cell_type": "code",
   "execution_count": null,
   "id": "54265cf5-f5b1-4216-9577-618d72580286",
   "metadata": {},
   "outputs": [],
   "source": []
  },
  {
   "cell_type": "code",
   "execution_count": null,
   "id": "f043cc21-a44a-44d0-9337-89a7df214b2b",
   "metadata": {},
   "outputs": [],
   "source": []
  },
  {
   "cell_type": "code",
   "execution_count": null,
   "id": "152fc6f2-fc5d-42ec-abf0-5e46eba2e48c",
   "metadata": {},
   "outputs": [],
   "source": []
  },
  {
   "cell_type": "code",
   "execution_count": null,
   "id": "ebc5c9a7-8ef4-4f43-b270-536840e29b17",
   "metadata": {},
   "outputs": [],
   "source": []
  },
  {
   "cell_type": "code",
   "execution_count": null,
   "id": "f8e6d69e-2907-41bd-a6a7-0867543e2821",
   "metadata": {},
   "outputs": [],
   "source": []
  },
  {
   "cell_type": "code",
   "execution_count": null,
   "id": "c26f11db-425c-49d0-b802-7e853251a0e3",
   "metadata": {},
   "outputs": [],
   "source": []
  },
  {
   "cell_type": "code",
   "execution_count": null,
   "id": "835e0277-bef1-4dc9-b48f-611063f3e33d",
   "metadata": {},
   "outputs": [],
   "source": []
  },
  {
   "cell_type": "code",
   "execution_count": null,
   "id": "af9c4fc5-85f1-4814-81f9-c77d75d17cd1",
   "metadata": {},
   "outputs": [],
   "source": []
  },
  {
   "cell_type": "code",
   "execution_count": null,
   "id": "4fcfa299-1865-48fd-b459-7cf9a828024c",
   "metadata": {},
   "outputs": [],
   "source": []
  },
  {
   "cell_type": "code",
   "execution_count": null,
   "id": "eba3bbbe-a049-4a4d-ba9a-18c02fdb8598",
   "metadata": {},
   "outputs": [],
   "source": []
  },
  {
   "cell_type": "code",
   "execution_count": null,
   "id": "c3b0ff25-c621-4195-8d6f-94a4228a52f9",
   "metadata": {},
   "outputs": [],
   "source": []
  },
  {
   "cell_type": "code",
   "execution_count": null,
   "id": "2b0f6532-6080-42cc-86dc-03d5d4804389",
   "metadata": {},
   "outputs": [],
   "source": []
  },
  {
   "cell_type": "code",
   "execution_count": null,
   "id": "a926689b-6fc0-4e07-8ed8-2b6d62fed5e1",
   "metadata": {},
   "outputs": [],
   "source": []
  }
 ],
 "metadata": {
  "kernelspec": {
   "display_name": "Python 3 (ipykernel)",
   "language": "python",
   "name": "python3"
  },
  "language_info": {
   "codemirror_mode": {
    "name": "ipython",
    "version": 3
   },
   "file_extension": ".py",
   "mimetype": "text/x-python",
   "name": "python",
   "nbconvert_exporter": "python",
   "pygments_lexer": "ipython3",
   "version": "3.12.4"
  }
 },
 "nbformat": 4,
 "nbformat_minor": 5
}
